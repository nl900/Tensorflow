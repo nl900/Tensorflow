{
 "cells": [
  {
   "cell_type": "code",
   "execution_count": 3,
   "id": "96958b4e",
   "metadata": {},
   "outputs": [
    {
     "name": "stdout",
     "output_type": "stream",
     "text": [
      "Downloading data from https://storage.googleapis.com/tensorflow/tf-keras-datasets/mnist.npz\n",
      "11490434/11490434 [==============================] - 3s 0us/step\n"
     ]
    }
   ],
   "source": [
    "import tensorflow as tf\n",
    "\n",
    "mnist = tf.keras.datasets.mnist # load MNIST dataset\n",
    "\n",
    "(x_train, y_train), (x_test, y_test) = mnist.load_data()\n",
    "\n",
    "# scale the pixel values to range of 0 to 1 by dividing by 255\n",
    "# at the same time convert the integers to floating-point numbers\n",
    "x_train, x_test = x_train / 255.0, x_test / 255.0 \n",
    "\n",
    "# Build sequential model where each layer has 1 input tensor and 1 output tensor\n",
    "# Each layer is a \n",
    "model = tf.keras.models.Sequential([\n",
    "  tf.keras.layers.Flatten(input_shape=(28, 28)),\n",
    "  tf.keras.layers.Dense(128, activation='relu'), # linear function output input directly if +ve otherwise 0\n",
    "  tf.keras.layers.Dropout(0.2), # randomly sets input units to 0, units not set to 0 scaled up by 1/(1-rate)\n",
    "  tf.keras.layers.Dense(10)\n",
    "])\n",
    "\n",
    "# loss function\n",
    "# Takes vector of ground truth values and vector of logits and returns a scalar loss for each example\n",
    "# loss is 0 if the model is sure of correct class\n",
    "loss_fn = tf.keras.losses.SparseCategoricalCrossentropy(from_logits=True) \n",
    "\n"
   ]
  },
  {
   "cell_type": "code",
   "execution_count": 5,
   "id": "6329601c",
   "metadata": {},
   "outputs": [
    {
     "name": "stdout",
     "output_type": "stream",
     "text": [
      "Epoch 1/5\n",
      "1875/1875 [==============================] - 3s 1ms/step - loss: 0.0657 - accuracy: 0.9791\n",
      "Epoch 2/5\n",
      "1875/1875 [==============================] - 2s 1ms/step - loss: 0.0581 - accuracy: 0.9815\n",
      "Epoch 3/5\n",
      "1875/1875 [==============================] - 2s 1ms/step - loss: 0.0525 - accuracy: 0.9828\n",
      "Epoch 4/5\n",
      "1875/1875 [==============================] - 2s 1ms/step - loss: 0.0505 - accuracy: 0.9836\n",
      "Epoch 5/5\n",
      "1875/1875 [==============================] - 2s 1ms/step - loss: 0.0439 - accuracy: 0.9854\n"
     ]
    },
    {
     "data": {
      "text/plain": [
       "<keras.callbacks.History at 0x7fe3020c9220>"
      ]
     },
     "execution_count": 5,
     "metadata": {},
     "output_type": "execute_result"
    }
   ],
   "source": [
    "# compile model\n",
    "# Adam optimiser: stochastic gradient descent that maintains per-parameter learning rate \n",
    "# and these are adapted based av of recent magnitudes of gradients for weights\n",
    "model.compile(optimizer='adam', \n",
    "              loss=loss_fn,\n",
    "              metrics=['accuracy'])\n",
    "\n",
    "\n",
    "model.fit(x_train, y_train, epochs=5) # train model over 5 epochs\n"
   ]
  },
  {
   "cell_type": "code",
   "execution_count": 6,
   "id": "415ad78c",
   "metadata": {},
   "outputs": [
    {
     "name": "stdout",
     "output_type": "stream",
     "text": [
      "313/313 - 0s - loss: 0.0710 - accuracy: 0.9799 - 332ms/epoch - 1ms/step\n"
     ]
    },
    {
     "data": {
      "text/plain": [
       "[0.07104834914207458, 0.9799000024795532]"
      ]
     },
     "execution_count": 6,
     "metadata": {},
     "output_type": "execute_result"
    }
   ],
   "source": [
    "model.evaluate(x_test,  y_test, verbose=2)  # evaluate model's performance using test set"
   ]
  },
  {
   "cell_type": "code",
   "execution_count": 8,
   "id": "99c5e3c4",
   "metadata": {},
   "outputs": [
    {
     "data": {
      "text/plain": [
       "<tf.Tensor: shape=(5, 10), dtype=float32, numpy=\n",
       "array([[4.27526348e-10, 8.34430525e-10, 4.55912016e-07, 2.01845505e-05,\n",
       "        4.69350210e-12, 2.13073008e-07, 1.91312278e-16, 9.99975681e-01,\n",
       "        8.41720578e-08, 3.36002927e-06],\n",
       "       [3.56374236e-11, 6.23037488e-09, 1.00000000e+00, 9.65691882e-09,\n",
       "        6.07158155e-23, 2.57470556e-09, 1.94802551e-12, 7.33492379e-19,\n",
       "        1.85159874e-10, 2.13866417e-15],\n",
       "       [2.31159675e-10, 9.99843240e-01, 1.65007095e-05, 3.83161478e-07,\n",
       "        5.25838959e-06, 1.15934881e-07, 3.37331386e-07, 6.16176403e-05,\n",
       "        7.18960509e-05, 7.16414320e-07],\n",
       "       [9.99984980e-01, 3.01509642e-12, 1.01412516e-05, 1.43225765e-10,\n",
       "        6.55711631e-07, 1.30340595e-07, 3.50769824e-06, 2.36958371e-07,\n",
       "        1.06400617e-10, 3.29658434e-07],\n",
       "       [3.65661504e-06, 2.51789236e-12, 2.76277569e-06, 4.20638219e-10,\n",
       "        9.88357842e-01, 8.96466901e-08, 1.85052585e-07, 1.08786764e-04,\n",
       "        2.58277009e-08, 1.15266824e-02]], dtype=float32)>"
      ]
     },
     "execution_count": 8,
     "metadata": {},
     "output_type": "execute_result"
    }
   ],
   "source": [
    "# apply softmax to the trained model to return probability\n",
    "probability_model = tf.keras.Sequential([\n",
    "  model,\n",
    "  tf.keras.layers.Softmax()\n",
    "])\n",
    "probability_model(x_test[:5])"
   ]
  },
  {
   "cell_type": "code",
   "execution_count": null,
   "id": "f62bb253",
   "metadata": {},
   "outputs": [],
   "source": []
  }
 ],
 "metadata": {
  "kernelspec": {
   "display_name": "Python 3 (ipykernel)",
   "language": "python",
   "name": "python3"
  },
  "language_info": {
   "codemirror_mode": {
    "name": "ipython",
    "version": 3
   },
   "file_extension": ".py",
   "mimetype": "text/x-python",
   "name": "python",
   "nbconvert_exporter": "python",
   "pygments_lexer": "ipython3",
   "version": "3.9.12"
  }
 },
 "nbformat": 4,
 "nbformat_minor": 5
}
